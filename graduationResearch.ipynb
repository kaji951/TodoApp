{
  "nbformat": 4,
  "nbformat_minor": 0,
  "metadata": {
    "colab": {
      "provenance": [],
      "authorship_tag": "ABX9TyMjo5nzf5YskRoda6jmlObW",
      "include_colab_link": true
    },
    "kernelspec": {
      "name": "python3",
      "display_name": "Python 3"
    },
    "language_info": {
      "name": "python"
    },
    "accelerator": "GPU",
    "gpuClass": "standard"
  },
  "cells": [
    {
      "cell_type": "markdown",
      "metadata": {
        "id": "view-in-github",
        "colab_type": "text"
      },
      "source": [
        "<a href=\"https://colab.research.google.com/github/kaji951/TodoApp/blob/main/graduationResearch.ipynb\" target=\"_parent\"><img src=\"https://colab.research.google.com/assets/colab-badge.svg\" alt=\"Open In Colab\"/></a>"
      ]
    },
    {
      "cell_type": "code",
      "execution_count": null,
      "metadata": {
        "colab": {
          "base_uri": "https://localhost:8080/",
          "height": 53
        },
        "id": "tzBHOlXUAlBk",
        "outputId": "9e69e141-c370-4b6b-bbd8-afda7b0e5013"
      },
      "outputs": [
        {
          "name": "stdout",
          "output_type": "stream",
          "text": [
            "Hi\n"
          ]
        },
        {
          "output_type": "execute_result",
          "data": {
            "text/plain": [
              "'Hi'"
            ],
            "application/vnd.google.colaboratory.intrinsic+json": {
              "type": "string"
            }
          },
          "metadata": {},
          "execution_count": 1
        }
      ],
      "source": [
        "input()"
      ]
    },
    {
      "cell_type": "code",
      "source": [
        "from IPython.display import Javascript\n",
        "from google.colab import output\n",
        "from base64 import b64decode\n",
        "\n",
        "RECORD = \"\"\"\n",
        "const sleep = time => new Promise(resolve => setTimeout(resolve, time))\n",
        "const b2text = blob => new Promise(resolve => {\n",
        "  const reader = new FileReader()\n",
        "  reader.onloadend = e => resolve(e.srcElement.result)\n",
        "  reader.readAsDataURL(blob)\n",
        "})\n",
        "var record = time => new Promise(async resolve => {\n",
        "  stream = await navigator.mediaDevices.getUserMedia({ audio: true })\n",
        "  recorder = new MediaRecorder(stream)\n",
        "  chunks = []\n",
        "  recorder.ondataavailable = e => chunks.push(e.data)\n",
        "  recorder.start()\n",
        "  await sleep(time)\n",
        "  recorder.onstop = async ()=>{\n",
        "    blob = new Blob(chunks)\n",
        "    text = await b2text(blob)\n",
        "    resolve(text)\n",
        "  }\n",
        "  recorder.stop()\n",
        "})\n",
        "\"\"\"\n",
        "\n",
        "def record(sec, filename='audio.wav'):\n",
        "  display(Javascript(RECORD))\n",
        "  s = output.eval_js('record(%d)' % (sec * 1000))\n",
        "  b = b64decode(s.split(',')[1])\n",
        "  with open(filename, 'wb+') as f:\n",
        "    f.write(b)"
      ],
      "metadata": {
        "id": "7Kxia0V2KzOx"
      },
      "execution_count": 2,
      "outputs": []
    },
    {
      "cell_type": "code",
      "source": [
        "audiofile = \"audio.wav\"\n",
        "second = 5\n",
        "print(f\"Speak to your microphone {second} sec...\")\n",
        "record(second, audiofile)\n",
        "print(\"Done!\")"
      ],
      "metadata": {
        "colab": {
          "base_uri": "https://localhost:8080/",
          "height": 53
        },
        "id": "Rvwvool1K7Dk",
        "outputId": "6e1ba17f-dd06-4d32-c227-f71ad1cf44f0"
      },
      "execution_count": 12,
      "outputs": [
        {
          "output_type": "stream",
          "name": "stdout",
          "text": [
            "Speak to your microphone 5 sec...\n"
          ]
        },
        {
          "output_type": "display_data",
          "data": {
            "text/plain": [
              "<IPython.core.display.Javascript object>"
            ],
            "application/javascript": [
              "\n",
              "const sleep = time => new Promise(resolve => setTimeout(resolve, time))\n",
              "const b2text = blob => new Promise(resolve => {\n",
              "  const reader = new FileReader()\n",
              "  reader.onloadend = e => resolve(e.srcElement.result)\n",
              "  reader.readAsDataURL(blob)\n",
              "})\n",
              "var record = time => new Promise(async resolve => {\n",
              "  stream = await navigator.mediaDevices.getUserMedia({ audio: true })\n",
              "  recorder = new MediaRecorder(stream)\n",
              "  chunks = []\n",
              "  recorder.ondataavailable = e => chunks.push(e.data)\n",
              "  recorder.start()\n",
              "  await sleep(time)\n",
              "  recorder.onstop = async ()=>{\n",
              "    blob = new Blob(chunks)\n",
              "    text = await b2text(blob)\n",
              "    resolve(text)\n",
              "  }\n",
              "  recorder.stop()\n",
              "})\n"
            ]
          },
          "metadata": {}
        },
        {
          "output_type": "stream",
          "name": "stdout",
          "text": [
            "Done!\n"
          ]
        }
      ]
    },
    {
      "cell_type": "code",
      "source": [
        "# 波形プロットにより録音を確認\n",
        "# UserWarning: PySoundFile failed. Trying audioread instead. が出るが、無視して問題ない\n",
        "import librosa\n",
        "import librosa.display\n",
        "speech, rate = librosa.load(audiofile, sr=16000)\n",
        "librosa.display.waveplot(speech, sr=rate)"
      ],
      "metadata": {
        "colab": {
          "base_uri": "https://localhost:8080/",
          "height": 352
        },
        "id": "Js5qmXboLODu",
        "outputId": "7790b0fc-7ac7-499d-b224-fb1ab03261aa"
      },
      "execution_count": 13,
      "outputs": [
        {
          "output_type": "stream",
          "name": "stderr",
          "text": [
            "/usr/local/lib/python3.8/dist-packages/librosa/core/audio.py:165: UserWarning: PySoundFile failed. Trying audioread instead.\n",
            "  warnings.warn(\"PySoundFile failed. Trying audioread instead.\")\n"
          ]
        },
        {
          "output_type": "execute_result",
          "data": {
            "text/plain": [
              "<matplotlib.collections.PolyCollection at 0x7f7aba401430>"
            ]
          },
          "metadata": {},
          "execution_count": 13
        },
        {
          "output_type": "display_data",
          "data": {
            "text/plain": [
              "<Figure size 432x288 with 1 Axes>"
            ],
            "image/png": "[encoded data removed]"
          },
          "metadata": {
            "needs_background": "light"
          }
        }
      ]
    },
    {
      "cell_type": "code",
      "source": [
        "!pip install git+https://github.com/openai/whisper.git"
      ],
      "metadata": {
        "colab": {
          "base_uri": "https://localhost:8080/"
        },
        "id": "9R3ATJirs3sE",
        "outputId": "dbb07b7b-2d58-4f98-d804-d99a6b5ff129"
      },
      "execution_count": 5,
      "outputs": [
        {
          "output_type": "stream",
          "name": "stdout",
          "text": [
            "Looking in indexes: https://pypi.org/simple, https://us-python.pkg.dev/colab-wheels/public/simple/\n",
            "Collecting git+https://github.com/openai/whisper.git\n",
            "  Cloning https://github.com/openai/whisper.git to /tmp/pip-req-build-7or3p8_x\n",
            "  Running command git clone --filter=blob:none --quiet https://github.com/openai/whisper.git /tmp/pip-req-build-7or3p8_x\n",
            "  Resolved https://github.com/openai/whisper.git to commit 7858aa9c08d98f75575035ecd6481f462d66ca27\n",
            "  Preparing metadata (setup.py) ... \u001b[?25l\u001b[?25hdone\n",
            "Requirement already satisfied: numpy in /usr/local/lib/python3.8/dist-packages (from openai-whisper==20230124) (1.22.4)\n",
            "Requirement already satisfied: torch in /usr/local/lib/python3.8/dist-packages (from openai-whisper==20230124) (1.13.1+cu116)\n",
            "Requirement already satisfied: tqdm in /usr/local/lib/python3.8/dist-packages (from openai-whisper==20230124) (4.64.1)\n",
            "Requirement already satisfied: more-itertools in /usr/local/lib/python3.8/dist-packages (from openai-whisper==20230124) (9.0.0)\n",
            "Collecting transformers>=4.19.0\n",
            "  Downloading transformers-4.26.1-py3-none-any.whl (6.3 MB)\n",
            "\u001b[2K     \u001b[90m━━━━━━━━━━━━━━━━━━━━━━━━━━━━━━━━━━━━━━━━\u001b[0m \u001b[32m6.3/6.3 MB\u001b[0m \u001b[31m42.9 MB/s\u001b[0m eta \u001b[36m0:00:00\u001b[0m\n",
            "\u001b[?25hCollecting ffmpeg-python==0.2.0\n",
            "  Downloading ffmpeg_python-0.2.0-py3-none-any.whl (25 kB)\n",
            "Requirement already satisfied: future in /usr/local/lib/python3.8/dist-packages (from ffmpeg-python==0.2.0->openai-whisper==20230124) (0.16.0)\n",
            "Requirement already satisfied: requests in /usr/local/lib/python3.8/dist-packages (from transformers>=4.19.0->openai-whisper==20230124) (2.25.1)\n",
            "Requirement already satisfied: regex!=2019.12.17 in /usr/local/lib/python3.8/dist-packages (from transformers>=4.19.0->openai-whisper==20230124) (2022.6.2)\n",
            "Requirement already satisfied: pyyaml>=5.1 in /usr/local/lib/python3.8/dist-packages (from transformers>=4.19.0->openai-whisper==20230124) (6.0)\n",
            "Requirement already satisfied: packaging>=20.0 in /usr/local/lib/python3.8/dist-packages (from transformers>=4.19.0->openai-whisper==20230124) (23.0)\n",
            "Collecting tokenizers!=0.11.3,<0.14,>=0.11.1\n",
            "  Downloading tokenizers-0.13.2-cp38-cp38-manylinux_2_17_x86_64.manylinux2014_x86_64.whl (7.6 MB)\n",
            "\u001b[2K     \u001b[90m━━━━━━━━━━━━━━━━━━━━━━━━━━━━━━━━━━━━━━━━\u001b[0m \u001b[32m7.6/7.6 MB\u001b[0m \u001b[31m48.1 MB/s\u001b[0m eta \u001b[36m0:00:00\u001b[0m\n",
            "\u001b[?25hCollecting huggingface-hub<1.0,>=0.11.0\n",
            "  Downloading huggingface_hub-0.12.1-py3-none-any.whl (190 kB)\n",
            "\u001b[2K     \u001b[90m━━━━━━━━━━━━━━━━━━━━━━━━━━━━━━━━━━━━━━\u001b[0m \u001b[32m190.3/190.3 KB\u001b[0m \u001b[31m14.9 MB/s\u001b[0m eta \u001b[36m0:00:00\u001b[0m\n",
            "\u001b[?25hRequirement already satisfied: filelock in /usr/local/lib/python3.8/dist-packages (from transformers>=4.19.0->openai-whisper==20230124) (3.9.0)\n",
            "Requirement already satisfied: typing-extensions in /usr/local/lib/python3.8/dist-packages (from torch->openai-whisper==20230124) (4.5.0)\n",
            "Requirement already satisfied: urllib3<1.27,>=1.21.1 in /usr/local/lib/python3.8/dist-packages (from requests->transformers>=4.19.0->openai-whisper==20230124) (1.24.3)\n",
            "Requirement already satisfied: certifi>=2017.4.17 in /usr/local/lib/python3.8/dist-packages (from requests->transformers>=4.19.0->openai-whisper==20230124) (2022.12.7)\n",
            "Requirement already satisfied: idna<3,>=2.5 in /usr/local/lib/python3.8/dist-packages (from requests->transformers>=4.19.0->openai-whisper==20230124) (2.10)\n",
            "Requirement already satisfied: chardet<5,>=3.0.2 in /usr/local/lib/python3.8/dist-packages (from requests->transformers>=4.19.0->openai-whisper==20230124) (4.0.0)\n",
            "Building wheels for collected packages: openai-whisper\n",
            "  Building wheel for openai-whisper (setup.py) ... \u001b[?25l\u001b[?25hdone\n",
            "  Created wheel for openai-whisper: filename=openai_whisper-20230124-py3-none-any.whl size=1179424 sha256=d81b1e6f7096a6b78964057870bb8b10dc4ef6fced29299901a6422947ef0a9b\n",
            "  Stored in directory: /tmp/pip-ephem-wheel-cache-0aafq5je/wheels/a7/70/18/b7693c07b1d18b3dafb328f5d0496aa0d41a9c09ef332fd8e6\n",
            "Successfully built openai-whisper\n",
            "Installing collected packages: tokenizers, ffmpeg-python, huggingface-hub, transformers, openai-whisper\n",
            "Successfully installed ffmpeg-python-0.2.0 huggingface-hub-0.12.1 openai-whisper-20230124 tokenizers-0.13.2 transformers-4.26.1\n"
          ]
        }
      ]
    },
    {
      "cell_type": "code",
      "source": [
        "import whisper"
      ],
      "metadata": {
        "id": "Z9qeG7ZWePwZ"
      },
      "execution_count": 6,
      "outputs": []
    },
    {
      "cell_type": "code",
      "source": [
        "model = whisper.load_model(\"medium\")"
      ],
      "metadata": {
        "colab": {
          "base_uri": "https://localhost:8080/"
        },
        "id": "neRXZ46OeakB",
        "outputId": "4b311b4c-a37f-43ab-ec66-95bc396fd90a"
      },
      "execution_count": 7,
      "outputs": [
        {
          "output_type": "stream",
          "name": "stderr",
          "text": [
            "100%|██████████████████████████████████████| 1.42G/1.42G [00:12<00:00, 122MiB/s]\n"
          ]
        }
      ]
    },
    {
      "cell_type": "code",
      "source": [
        "result = model.transcribe(\"/content/audio.wav\")\n",
        "print(result[\"text\"])"
      ],
      "metadata": {
        "colab": {
          "base_uri": "https://localhost:8080/"
        },
        "id": "pHxElvGXLePq",
        "outputId": "0a2c8458-8ef2-4e3b-bb4c-86eea99da352"
      },
      "execution_count": 14,
      "outputs": [
        {
          "output_type": "stream",
          "name": "stdout",
          "text": [
            "1行目と2行目を入れ替え3行目と4行目を入れ替え\n"
          ]
        }
      ]
    },
    {
      "cell_type": "code",
      "source": [
        "result = model.transcribe(\"/content/sample_data/画面収録 2022-04-02 17.44.20.mov\")\n",
        "print(result[\"text\"])"
      ],
      "metadata": {
        "colab": {
          "base_uri": "https://localhost:8080/"
        },
        "id": "wGMRNkGsgEbd",
        "outputId": "a4716566-b320-4ce9-96c8-bc855d477bd8"
      },
      "execution_count": null,
      "outputs": [
        {
          "output_type": "stream",
          "name": "stdout",
          "text": [
            "hernはいこんばんは 打ち風ですmememememememememememememememememememememememememememememememememememememememememememememememememememememememe藤井風のオールナイト日本memememememememememememememe\n"
          ]
        }
      ]
    },
    {
      "cell_type": "code",
      "source": [
        "result = model.transcribe(\"/content/sample_data/画面収録 2022-04-02 17.44.20.mov\", verbose=True)\n",
        "print(result[\"text\"])"
      ],
      "metadata": {
        "colab": {
          "base_uri": "https://localhost:8080/"
        },
        "outputId": "decf2522-a0f2-46aa-9098-dec9d333ce21",
        "id": "yxvUU0eBi_pt"
      },
      "execution_count": null,
      "outputs": [
        {
          "output_type": "stream",
          "name": "stdout",
          "text": [
            "Detecting language using up to the first 30 seconds. Use `--language` to specify the language\n",
            "Detected language: Japanese\n",
            "[00:00.000 --> 00:29.640]  ううう\n",
            "[00:30.000 --> 00:36.380] This place could be much brighter than tomorrow\n",
            "[00:36.380 --> 00:39.180] And if you really try\n",
            "[00:39.180 --> 00:42.680] You'll find there's no need to cry\n",
            "[00:42.680 --> 00:49.060] In this place you feel there's no hurt or sorrow\n",
            "[00:49.060 --> 00:52.200] There are ways to get there\n",
            "[00:52.200 --> 00:55.260] If you care enough for the living\n",
            "[00:55.260 --> 00:58.140] Make a little space\n",
            "[00:58.140 --> 01:00.880] Make a better place\n",
            "[01:00.880 --> 01:02.940] Heal the\n",
            "[01:02.940 --> 01:05.880] Heal the world\n",
            "[01:05.880 --> 01:09.320] Make it a better place\n",
            "[01:09.320 --> 01:11.820] For you and for me\n",
            "[01:11.820 --> 01:14.820] And the entire human race\n",
            "[01:14.820 --> 01:18.200] There are people dying\n",
            "[01:18.200 --> 01:21.200] If you care enough for the living\n",
            "[01:21.200 --> 01:22.760] Make a better place\n",
            "[01:22.760 --> 01:28.000] For you and for me\n",
            "[01:28.000 --> 01:33.100] And the dream we were conceived to be\n",
            "[01:33.100 --> 01:36.100] We've been trying for farce\n",
            "[01:36.100 --> 01:38.980] And the world we once believed in\n",
            "[01:38.980 --> 01:41.980] We'll try to get in grace\n",
            "[01:41.980 --> 01:44.980] Then why do we keep struggling\n",
            "[01:44.980 --> 01:47.980] Like when the sun crucified the sun\n",
            "[01:47.980 --> 01:49.980] Though it's plain to see\n",
            "[01:49.980 --> 01:51.980] This world is heavenly\n",
            "[01:51.980 --> 01:56.000] Because of love\n",
            "[01:56.000 --> 02:00.000] We could fly so high\n",
            "[02:00.000 --> 02:03.000] Let our spirits never die\n",
            "[02:03.000 --> 02:09.000] In my heart I feel you are my brothers\n",
            "[02:09.000 --> 02:12.000] Create a world with no fear\n",
            "[02:12.000 --> 02:16.020] Together we'll cry happy tears\n",
            "[02:16.020 --> 02:22.020] The nations turn their swords into blotches\n",
            "[02:22.020 --> 02:25.020] We could really get there\n",
            "[02:25.020 --> 02:28.020] If you care enough for the living\n",
            "[02:28.020 --> 02:31.020] Make a little space\n",
            "[02:31.020 --> 02:34.020] Make a better place\n",
            "[02:34.020 --> 02:37.020] Heal the world\n",
            "[02:37.020 --> 02:40.040] Make it a better place\n",
            "[02:40.040 --> 02:43.040] For you and for me\n",
            "[02:43.040 --> 02:46.040] And the entire human race\n",
            "[02:46.040 --> 02:49.040] There are people dying\n",
            "[02:49.040 --> 02:52.040] If you care enough for the living\n",
            "[02:52.040 --> 02:57.060] Make a better place for you and for me\n",
            "[02:57.060 --> 03:01.060] There are people dying\n",
            "[03:01.060 --> 03:04.060] If you care enough for the living\n",
            "[03:04.060 --> 03:09.060] Make a better place for you and for me\n",
            "[03:09.060 --> 03:12.060] You and for me\n",
            "[03:12.060 --> 03:22.080] You and for me\n",
            "[03:22.080 --> 03:44.080] Fujii KazeのAll Night Nippon\n",
            "[03:44.080 --> 03:48.080] 改めましてこんばんはFujii Kazeです\n",
            "[03:48.080 --> 03:52.080] 2021年3月30日水曜日\n",
            "[03:52.080 --> 03:54.080] いつものこの時間は\n",
            "[03:54.080 --> 03:57.080] のぎ坂46の久保しおりさんが\n",
            "[03:57.080 --> 03:59.080] お届けしていますが\n",
            "[03:59.080 --> 04:02.080] 今夜はわしFujii Kazeがお届けします\n",
            "[04:02.080 --> 04:04.080] またまたまた帰ってきました\n",
            "[04:04.080 --> 04:18.080] All Night Nippon\n",
            " うううThis place could be much brighter than tomorrowAnd if you really tryYou'll find there's no need to cryIn this place you feel there's no hurt or sorrowThere are ways to get thereIf you care enough for the livingMake a little spaceMake a better placeHeal theHeal the worldMake it a better placeFor you and for meAnd the entire human raceThere are people dyingIf you care enough for the livingMake a better placeFor you and for meAnd the dream we were conceived to beWe've been trying for farceAnd the world we once believed inWe'll try to get in graceThen why do we keep strugglingLike when the sun crucified the sunThough it's plain to seeThis world is heavenlyBecause of loveWe could fly so highLet our spirits never dieIn my heart I feel you are my brothersCreate a world with no fearTogether we'll cry happy tearsThe nations turn their swords into blotchesWe could really get thereIf you care enough for the livingMake a little spaceMake a better placeHeal the worldMake it a better placeFor you and for meAnd the entire human raceThere are people dyingIf you care enough for the livingMake a better place for you and for meThere are people dyingIf you care enough for the livingMake a better place for you and for meYou and for meYou and for meFujii KazeのAll Night Nippon改めましてこんばんはFujii Kazeです2021年3月30日水曜日いつものこの時間はのぎ坂46の久保しおりさんがお届けしていますが今夜はわしFujii Kazeがお届けしますまたまたまた帰ってきましたAll Night Nippon\n"
          ]
        }
      ]
    },
    {
      "cell_type": "code",
      "source": [
        "result = model.transcribe(\"/content/sample_data/ムービー５.mov\")\n",
        "print(result[\"text\"])"
      ],
      "metadata": {
        "colab": {
          "base_uri": "https://localhost:8080/"
        },
        "outputId": "5501620f-77c9-4ec4-9396-aa0466353291",
        "id": "DK8jNCTikmXa"
      },
      "execution_count": null,
      "outputs": [
        {
          "output_type": "stream",
          "name": "stdout",
          "text": [
            " Good morning, Garden Hotel. Can I help you? Yes, please. Do you have any vacancies for next Friday, please? Yes, we do. Would you like a single or a double? A double, please. And for how many nights? For one night, please. Fine. How much is it? It's 99 pounds per night. That's fine. Okay, could I have your name, please? Yes, it's Kajikawa. Could you spell that, please? Yes, it's K-A-J-I-K-A-W-A. Thank you. And could I have your phone number, please? Yes, sure. It's 060-547-979-1003.\n"
          ]
        }
      ]
    },
    {
      "cell_type": "code",
      "source": [
        "result = model.transcribe(\"/content/sample_data/ムービー５.mov\", verbose=True)\n",
        "print(result[\"text\"])"
      ],
      "metadata": {
        "colab": {
          "base_uri": "https://localhost:8080/"
        },
        "outputId": "14725814-3f36-41d4-fcb7-bf766fb6c42c",
        "id": "rrr8NjQ7noke"
      },
      "execution_count": null,
      "outputs": [
        {
          "output_type": "stream",
          "name": "stdout",
          "text": [
            "Detecting language using up to the first 30 seconds. Use `--language` to specify the language\n",
            "Detected language: English\n",
            "[00:00.000 --> 00:07.000]  Good morning, Garden Hotel. Can I help you?\n",
            "[00:08.000 --> 00:15.000]  Yes, please. Do you have any vacancies for next Friday, please?\n",
            "[00:16.000 --> 00:21.000]  Yes, we do. Would you like a single or a double?\n",
            "[00:22.000 --> 00:24.000]  A double, please.\n",
            "[00:25.000 --> 00:28.000]  And for how many nights?\n",
            "[00:28.000 --> 00:32.000]  For one night, please.\n",
            "[00:33.000 --> 00:38.000]  Fine. How much is it?\n",
            "[00:39.000 --> 00:45.000]  It's 99 pounds per night. That's fine.\n",
            "[00:46.000 --> 00:50.000]  Okay, could I have your name, please?\n",
            "[00:50.000 --> 00:57.000]  Yes, it's Kajikawa. Could you spell that, please?\n",
            "[00:58.000 --> 01:07.000]  Yes, it's K-A-J-I-K-A-W-A. Thank you.\n",
            "[01:08.000 --> 01:11.000]  And could I have your phone number, please?\n",
            "[01:11.000 --> 01:26.000]  Yes, sure. It's 060-547-979-1003.\n",
            " Good morning, Garden Hotel. Can I help you? Yes, please. Do you have any vacancies for next Friday, please? Yes, we do. Would you like a single or a double? A double, please. And for how many nights? For one night, please. Fine. How much is it? It's 99 pounds per night. That's fine. Okay, could I have your name, please? Yes, it's Kajikawa. Could you spell that, please? Yes, it's K-A-J-I-K-A-W-A. Thank you. And could I have your phone number, please? Yes, sure. It's 060-547-979-1003.\n"
          ]
        }
      ]
    },
    {
      "cell_type": "code",
      "source": [
        "!python WhiperStreaming.py"
      ],
      "metadata": {
        "colab": {
          "base_uri": "https://localhost:8080/"
        },
        "id": "gPwwEUNksg4n",
        "outputId": "d3f50945-39a0-436b-e052-c863ad19b0c9"
      },
      "execution_count": null,
      "outputs": [
        {
          "output_type": "stream",
          "name": "stdout",
          "text": [
            "Traceback (most recent call last):\n",
            "  File \"WhiperStreaming.py\", line 8, in <module>\n",
            "    from whisper.audio import SAMPLE_RATE, N_FRAMES, HOP_LENGTH, CHUNK_LENGTH, pad_or_trim, log_mel_spectrogram\n",
            "ModuleNotFoundError: No module named 'whisper'\n"
          ]
        }
      ]
    },
    {
      "cell_type": "code",
      "source": [
        "string = input(\"文字列を入力してください：\")\n",
        "print(\"文字列\", string, \"が入力されました。\")"
      ],
      "metadata": {
        "colab": {
          "base_uri": "https://localhost:8080/"
        },
        "id": "xR_mwdHjCLSe",
        "outputId": "cf93277e-98bc-45cf-c415-0bab03956c19"
      },
      "execution_count": null,
      "outputs": [
        {
          "output_type": "stream",
          "name": "stdout",
          "text": [
            "文字列を入力してください：aa\n",
            "文字列 aa が入力されました。\n"
          ]
        }
      ]
    },
    {
      "cell_type": "code",
      "source": [
        "'''import tkinter as tk\n",
        "import tkinter.ttk as ttk\n",
        "\n",
        "# メインウィンドウの作成\n",
        "root = tk.Tk()\n",
        "root.title(\"Tkinter Separator\")\n",
        "\n",
        "root.rowconfigure(0, minsize=250, weight=1)\n",
        "root.columnconfigure(0, minsize=200, weight=1)\n",
        "root.columnconfigure(2, minsize=200, weight=1)\n",
        "\n",
        "# Styleの指定\n",
        "style = ttk.Style()\n",
        "style.configure(\"blue.TSeparator\", background=\"blue\")\n",
        "\n",
        "### Widgetの作成 ###\n",
        "frame_left = tk.Frame(root)\n",
        "separator = ttk.Separator(root, orient=\"vertical\", style=\"blue.TSeparator\")\n",
        "frame_right = tk.Frame(root)\n",
        "\n",
        "label1 = tk.Label(frame_left, text=\"label1\", relief=\"raised\", height=15, bg=\"white\")\n",
        "label2 = tk.Label(frame_right, text=\"label2\", relief=\"raised\", height=15, bg=\"white\")\n",
        "\n",
        "### 配置 ###\n",
        "frame_left.grid(row=0, column=0, rowspan=2, sticky=\"nsew\", padx=20, pady=20)\n",
        "separator.grid(row=0, rowspan=2, column=1, sticky=\"ns\")\n",
        "frame_right.grid(row=0, column=2, sticky=\"nsew\", padx=20, pady=20)\n",
        "\n",
        "label1.pack(fill=\"both\")\n",
        "label2.pack(fill=\"both\")\n",
        "\n",
        "root.mainloop()'''"
      ],
      "metadata": {
        "colab": {
          "base_uri": "https://localhost:8080/",
          "height": 139
        },
        "id": "hxaLcGaTHSEO",
        "outputId": "b3b8c28f-2d16-47f4-857f-be2c6e13540c"
      },
      "execution_count": null,
      "outputs": [
        {
          "output_type": "execute_result",
          "data": {
            "text/plain": [
              "'import tkinter as tk\\nimport tkinter.ttk as ttk\\n\\n# メインウィンドウの作成\\nroot = tk.Tk()\\nroot.title(\"Tkinter Separator\")\\n\\nroot.rowconfigure(0, minsize=250, weight=1)\\nroot.columnconfigure(0, minsize=200, weight=1)\\nroot.columnconfigure(2, minsize=200, weight=1)\\n\\n# Styleの指定\\nstyle = ttk.Style()\\nstyle.configure(\"blue.TSeparator\", background=\"blue\")\\n\\n### Widgetの作成 ###\\nframe_left = tk.Frame(root)\\nseparator = ttk.Separator(root, orient=\"vertical\", style=\"blue.TSeparator\")\\nframe_right = tk.Frame(root)\\n\\nlabel1 = tk.Label(frame_left, text=\"label1\", relief=\"raised\", height=15, bg=\"white\")\\nlabel2 = tk.Label(frame_right, text=\"label2\", relief=\"raised\", height=15, bg=\"white\")\\n\\n### 配置 ###\\nframe_left.grid(row=0, column=0, rowspan=2, sticky=\"nsew\", padx=20, pady=20)\\nseparator.grid(row=0, rowspan=2, column=1, sticky=\"ns\")\\nframe_right.grid(row=0, column=2, sticky=\"nsew\", padx=20, pady=20)\\n\\nlabel1.pack(fill=\"both\")\\nlabel2.pack(fill=\"both\")\\n\\nroot.mainloop()'"
            ],
            "application/vnd.google.colaboratory.intrinsic+json": {
              "type": "string"
            }
          },
          "metadata": {},
          "execution_count": 7
        }
      ]
    }
  ]
}